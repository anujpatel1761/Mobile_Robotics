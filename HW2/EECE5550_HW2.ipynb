{
 "cells": [
  {
   "cell_type": "markdown",
   "metadata": {
    "id": "zkxjIur0iH-W"
   },
   "source": [
    "# HW2: Local Planning\n",
    "\n",
    "### EECE 5550: Mobile Robotics (Spring 2024)\n"
   ]
  },
  {
   "cell_type": "markdown",
   "metadata": {
    "id": "24gMxVX7yaLr"
   },
   "source": [
    "**Collaboration Statement:**"
   ]
  },
  {
   "cell_type": "code",
   "execution_count": 1,
   "metadata": {
    "id": "QXaBB3IJyxcb"
   },
   "outputs": [],
   "source": [
    "#I took guidance from Rahil Bhowal for question 1a."
   ]
  },
  {
   "cell_type": "markdown",
   "metadata": {
    "id": "l5Q-SupywN0g"
   },
   "source": [
    "# Installation"
   ]
  },
  {
   "cell_type": "markdown",
   "metadata": {
    "id": "OaX3MKJZiWb3"
   },
   "source": [
    "This semester, we will use a custom simulator, called `gym-neu-racing`, to develop navigation algorithms. We implemented the basic structure of this simulator for you, and the HW assignments will ask you to implement important functions (e.g., kinematics, sensing, planning, mapping).\n",
    "\n",
    "To install the simulator, you can use this command (it will download the latest code from GitLab and automatically install it in the environment your Colab notebook runs in):"
   ]
  },
  {
   "cell_type": "code",
   "execution_count": 2,
   "metadata": {
    "id": "W1a17fpJ9ONw"
   },
   "outputs": [
    {
     "name": "stdout",
     "output_type": "stream",
     "text": [
      "Collecting git+https://gitlab.com/neu-autonomy/gym-neu-racing.git\n",
      "  Cloning https://gitlab.com/neu-autonomy/gym-neu-racing.git to c:\\users\\anuj\\appdata\\local\\temp\\pip-req-build-825fvk2l\n",
      "  Resolved https://gitlab.com/neu-autonomy/gym-neu-racing.git to commit accce6e955894ab920542ee00ef52e28a02b79ef\n",
      "  Installing build dependencies: started\n",
      "  Installing build dependencies: finished with status 'done'\n",
      "  Getting requirements to build wheel: started\n",
      "  Getting requirements to build wheel: finished with status 'done'\n",
      "  Preparing metadata (pyproject.toml): started\n",
      "  Preparing metadata (pyproject.toml): finished with status 'done'\n",
      "Requirement already satisfied: gymnasium>=0.26.1 in c:\\users\\anuj\\appdata\\local\\programs\\python\\python311\\lib\\site-packages (from gym_neu_racing==0.0.1) (0.29.1)\n",
      "Requirement already satisfied: numpy in c:\\users\\anuj\\appdata\\local\\programs\\python\\python311\\lib\\site-packages (from gym_neu_racing==0.0.1) (1.26.3)\n",
      "Requirement already satisfied: mypy in c:\\users\\anuj\\appdata\\local\\programs\\python\\python311\\lib\\site-packages (from gym_neu_racing==0.0.1) (1.8.0)\n",
      "Requirement already satisfied: cloudpickle>=1.2.0 in c:\\users\\anuj\\appdata\\local\\programs\\python\\python311\\lib\\site-packages (from gymnasium>=0.26.1->gym_neu_racing==0.0.1) (3.0.0)\n",
      "Requirement already satisfied: typing-extensions>=4.3.0 in c:\\users\\anuj\\appdata\\local\\programs\\python\\python311\\lib\\site-packages (from gymnasium>=0.26.1->gym_neu_racing==0.0.1) (4.9.0)\n",
      "Requirement already satisfied: farama-notifications>=0.0.1 in c:\\users\\anuj\\appdata\\local\\programs\\python\\python311\\lib\\site-packages (from gymnasium>=0.26.1->gym_neu_racing==0.0.1) (0.0.4)\n",
      "Requirement already satisfied: mypy-extensions>=1.0.0 in c:\\users\\anuj\\appdata\\local\\programs\\python\\python311\\lib\\site-packages (from mypy->gym_neu_racing==0.0.1) (1.0.0)\n"
     ]
    },
    {
     "name": "stderr",
     "output_type": "stream",
     "text": [
      "  Running command git clone --filter=blob:none --quiet https://gitlab.com/neu-autonomy/gym-neu-racing.git 'C:\\Users\\Anuj\\AppData\\Local\\Temp\\pip-req-build-825fvk2l'\n"
     ]
    }
   ],
   "source": [
    "!pip install git+https://gitlab.com/neu-autonomy/gym-neu-racing.git"
   ]
  },
  {
   "cell_type": "markdown",
   "metadata": {
    "id": "U528T-DbjK3L"
   },
   "source": [
    "Now that the simulator and its dependencies have been installed, you can import the modules you'll need for this assignment:"
   ]
  },
  {
   "cell_type": "code",
   "execution_count": 1,
   "metadata": {
    "id": "ylskOzCW-VEt"
   },
   "outputs": [],
   "source": [
    "import gymnasium\n",
    "import numpy as np\n",
    "import gym_neu_racing\n",
    "from gymnasium import spaces\n",
    "from gym_neu_racing.envs.wrappers import StateFeedbackWrapper\n",
    "import matplotlib.pyplot as plt\n",
    "from typing import Callable\n",
    "from typing import List\n",
    "import matplotlib.cm as cmx\n",
    "import matplotlib.colors as colors\n",
    "from gym_neu_racing import motion_models\n",
    "import cvxpy as cp"
   ]
  },
  {
   "cell_type": "markdown",
   "metadata": {
    "id": "TKUvYLxpv2p4"
   },
   "source": [
    "# Problem 1: MPPI"
   ]
  },
  {
   "cell_type": "markdown",
   "metadata": {
    "id": "oHr3pCDajeQr"
   },
   "source": [
    "## 1a) MPPI to move toward a goal coordinate"
   ]
  },
  {
   "cell_type": "markdown",
   "metadata": {
    "id": "rSN_vAxgrB7p"
   },
   "source": [
    "In this problem, you'll implement a basic version of MPPI and show that it outputs a good rollout to move a robot toward a given goal position. This part uses the Unicycle kinematic model that's built into the simulator. You should  make sure that your `get_action` method considers the control limits (otherwise it may command things that the robot can't execute), which may require passing those as arguments to the `__init__` method.\n",
    "\n",
    "You will probably need to experiment with different numbers of rollouts, cost functions, λ values, numbers of iterations, etc. to get good performance.\n",
    "\n",
    "Keeping this code relatively organized and clean will help for later parts in the assignment, where you build on this implementation. For example, you are encouraged to define helper methods in your `MPPI` class to help keep your code organized (e.g., you may want a `score_rollouts` and/or `plot_rollouts` method that get called inside the `get_next_action` method).\n",
    "\n",
    "**Deliverables**:\n",
    "- Implement the `MPPI` class, in particular the `get_next_action` method, so that the chosen rollout drives the robot toward the goal position.\n",
    "- Print the best control sequence your MPPI algorithm came up with (the first row/element of this sequence should be the action that your `get_action` returns)\n",
    "- Include a plot that shows the rollouts, start position, goal position, and highlights the best rollout in that iteration, for at least a few iterations. We expect that the later iterations will give much better rollouts than the first iteration. You should make your axes have the same scale (e.g., using `plt.axis('equal')`)."
   ]
  },
  {
   "cell_type": "code",
   "execution_count": 8,
   "metadata": {
    "id": "KLBNRUxk9biN"
   },
   "outputs": [],
   "source": [
    "# Create an instance of the mobile robot simulator we'll use this semester\n",
    "env = gymnasium.make(\"gym_neu_racing/NEUEmptyWorld-v0\")\n",
    "\n",
    "# Tell the simulator to directly provide the current state vector (no sensors yet)\n",
    "env = StateFeedbackWrapper(env)"
   ]
  },
  {
   "cell_type": "code",
   "execution_count": 9,
   "metadata": {
    "id": "2ZJH3QRk3mRy"
   },
   "outputs": [],
   "source": [
    "class MPPI:\n",
    "    def __init__(\n",
    "        self,\n",
    "        motion_model=motion_models.Unicycle(),\n",
    "        num_rollouts=10, \n",
    "        num_iterations=20,\n",
    "    \tsigma=1,\n",
    "    \thorizon=10, \n",
    "        lambda_=1.0,\n",
    "\n",
    "    ):\n",
    "        \"\"\" Your implementation here \"\"\"\n",
    "        self.motion_model = motion_model\n",
    "        self.action_space = spaces.Box(np.array([0, -2*np.pi]),\n",
    "                                       np.array([1, 2*np.pi]),\n",
    "                                       shape=(2,),\n",
    "                                       dtype=float)\n",
    "        self.num_rollouts = 100\n",
    "        self.num_iterations = num_iterations\n",
    "        self.lambda_ = lambda_\n",
    "\n",
    "    def update_state(self, state, action, dt):\n",
    "        x, y, theta = state\n",
    "        v, omega = action\n",
    "\n",
    "        x += v * np.cos(theta) * dt\n",
    "        y += v * np.sin(theta) * dt\n",
    "        theta += omega * dt\n",
    "\n",
    "        theta = (theta + 2 * np.pi) % (2 * np.pi)\n",
    "\n",
    "        return np.array([x, y, theta])\n",
    "\n",
    "\n",
    "    def compute_scores(self, rollouts, goal_pos):\n",
    "        scores = np.zeros(self.num_rollouts)\n",
    "\n",
    "        for i, (_, trajectory, _) in enumerate(rollouts):\n",
    "            final_pos = trajectory[-1][:2]\n",
    "            scores[i] = -np.linalg.norm(goal_pos - final_pos)\n",
    "\n",
    "        return scores\n",
    "\n",
    "    def get_action(self, initial_state, goal_pos):\n",
    "        best_rollout = None\n",
    "        best_rollouts = []\n",
    "        best_best_rollouts = []\n",
    "\n",
    "        for iteration in range(self.num_iterations):\n",
    "            rollouts = []\n",
    "\n",
    "            for _ in range(self.num_rollouts):\n",
    "                random_action = np.random.uniform(low=self.motion_model.action_space.low,\n",
    "                                                   high=self.motion_model.action_space.high)\n",
    "\n",
    "                trajectory = self.generate_trajectory(initial_state, random_action)\n",
    "                cost = self.compute_cost(trajectory, goal_pos)\n",
    "\n",
    "                rollouts.append((random_action, trajectory, cost))\n",
    "\n",
    "            scores = self.compute_scores(rollouts, goal_pos)\n",
    "            best_rollout = rollouts[np.argmax(scores)]\n",
    "            best_action = best_rollout[0]\n",
    "            best_rollouts.append(best_rollout)\n",
    "\n",
    "        print(len(best_rollouts))\n",
    "        best_scores = self.compute_scores(best_rollouts, goal_pos)\n",
    "        non_zero_indices = np.nonzero(best_scores)\n",
    "        best_scores = best_scores[non_zero_indices]\n",
    "        print(best_scores)\n",
    "        print(max(best_scores))\n",
    "        max_index = np.argmax(best_scores)\n",
    "        print(max_index)\n",
    "        best_best_rollout = best_rollouts[np.argmax(best_scores)]\n",
    "        best_best_action = best_best_rollout[0]\n",
    "\n",
    "        self.plot_rollouts(best_rollouts, initial_state, goal_pos, best_best_rollout)\n",
    "\n",
    "        return best_best_action\n",
    "\n",
    "    def generate_trajectory(self, initial_state, action, dt=0.1, steps=10):\n",
    "        trajectory = [initial_state]\n",
    "\n",
    "        for _ in range(steps):\n",
    "            next_state = self.update_state(initial_state, action, dt)\n",
    "            initial_state = next_state\n",
    "            trajectory.append(next_state)\n",
    "\n",
    "        return np.array(trajectory)\n",
    "\n",
    "    def compute_cost(self, trajectory, goal_pos):\n",
    "        final_pos = trajectory[-1][:2]\n",
    "        return -np.linalg.norm(goal_pos-final_pos)\n",
    "\n",
    "    def plot_rollouts(self, rollouts, start_pos, goal_pos, best_rollout):\n",
    "        plt.figure()\n",
    "        plt.title(\"MPPI Rollouts\")\n",
    "        plt.scatter(start_pos[0], start_pos[1], color='green', marker='o', label='Initial Position')\n",
    "        plt.scatter(goal_pos[0], goal_pos[1], color='yellow', marker='x', label='Goal Position')\n",
    "\n",
    "        for _, trajectory, _ in rollouts:\n",
    "            plt.plot(trajectory[:, 0], trajectory[:, 1], color='black', alpha=0.1)\n",
    "\n",
    "        best_trajectory = best_rollout[1]\n",
    "        final_pos = best_trajectory[-1][:2]\n",
    "        final_dis = np.linalg.norm(goal_pos-final_pos)\n",
    "        plt.plot(best_trajectory[:, 0], best_trajectory[:, 1], color='blue', label='Best Rollout of Robot')\n",
    "\n",
    "        plt.legend()\n",
    "        plt.xlabel('X-axis')\n",
    "        plt.ylabel('Y-axis')\n",
    "        plt.axis('equal')\n",
    "        plt.grid(True)\n",
    "        plt.show()"
   ]
  },
  {
   "cell_type": "markdown",
   "metadata": {
    "id": "z7KCd76vpd7O"
   },
   "source": [
    "You can use the following code to check whether your MPPI implementation is working. After tuning your algorithm, it should be able to come up with a rollout that ends close to the goal (within 0.1m in l2 distance is close enough):"
   ]
  },
  {
   "cell_type": "code",
   "execution_count": 10,
   "metadata": {
    "id": "0MwJmizDsKT_",
    "scrolled": true
   },
   "outputs": [
    {
     "name": "stdout",
     "output_type": "stream",
     "text": [
      "20\n",
      "[-0.15531842 -0.03449361 -0.10995393 -0.07163167 -0.18705172 -0.06388157\n",
      " -0.08641456 -0.05993842 -0.04950998 -0.11521617 -0.12884251 -0.04947163\n",
      " -0.21628014 -0.09700209 -0.11784017 -0.09447443 -0.07897771 -0.0315758\n",
      " -0.03317722 -0.13182009]\n",
      "-0.03157579563049457\n",
      "17\n"
     ]
    },
    {
     "data": {
      "image/png": "[encoded data removed]",
      "text/plain": [
       "<Figure size 640x480 with 1 Axes>"
      ]
     },
     "metadata": {},
     "output_type": "display_data"
    }
   ],
   "source": [
    "# Initialize the environment (and set random seed so any randomness is repeatable)\n",
    "np.random.seed(0)\n",
    "obs, _ = env.reset()\n",
    "\n",
    "# Set the starting state (x, y, theta) and goal position (x, y).\n",
    "initial_state = np.array([0.0, 0.0, 0.0])\n",
    "goal_pos = np.array([0.5, 0.5])\n",
    "\n",
    "# Instantiate your contoller class\n",
    "controller = MPPI()\n",
    "\n",
    "# Run your control algorithm for 1 step. We'll worry about running your\n",
    "# algorithm in closed-loop in later parts of the assignment.\n",
    "action = controller.get_action(initial_state, goal_pos)"
   ]
  },
  {
   "cell_type": "markdown",
   "metadata": {
    "id": "TbpVmsnFKLFE"
   },
   "source": [
    "## 1b) MPPI to drive around a racetrack\n",
    "\n",
    "Now you will extend your MPPI implementation so that your robot drives around a racetrack. There are a few interesting challenges you'll need to figure out that didn't appear in the earlier problem:\n",
    "\n",
    "*   How to score rollouts? Some possible ideas include placing waypoints around the track, designing a cost-to-go function, or encouraging the vehicle to maintain full speed, but this is completely up to you!\n",
    "*   How to ensure the robot doesn't collide with the walls? \n",
    "**Deliverables**:\n",
    "- Implement the `MPPIRacetrack` class below to enable your robot to complete a full lap around the track\n",
    "- Generate a plot of the path taken with some indication of time (e.g., using a colorbar, timestamps every so often along the path, or another creative way you come up with)"
   ]
  },
  {
   "cell_type": "code",
   "execution_count": 11,
   "metadata": {
    "id": "LHiwUnxOKOLa"
   },
   "outputs": [],
   "source": [
    "# Create an instance of the mobile robot simulator we'll use this semester\n",
    "env = gymnasium.make(\"gym_neu_racing/NEURacing-v0\")\n",
    "\n",
    "# Tell the simulator to directly provide the current state vector (no sensors yet)\n",
    "env = StateFeedbackWrapper(env)"
   ]
  },
  {
   "cell_type": "code",
   "execution_count": 12,
   "metadata": {
    "id": "pD7Tme-ON1bT"
   },
   "outputs": [],
   "source": [
    "class MPPIRacetrack:\n",
    "    def __init__(\n",
    "        self,\n",
    "        static_map,\n",
    "        motion_model=motion_models.Unicycle(),\n",
    "        num_rollouts=100,\n",
    "        horizon=10,\n",
    "        lambda_=1.0,\n",
    "        sigma=0.1,\n",
    "        control_limits=(-1.0, 1.0),\n",
    "        map_resolution=0.05  # Specify the map resolution\n",
    "    ):\n",
    "        self.motion_model = motion_model\n",
    "        self.static_map = static_map\n",
    "        self.num_rollouts = num_rollouts\n",
    "        self.horizon = horizon\n",
    "        self.lambda_ = lambda_\n",
    "        self.sigma = sigma\n",
    "        self.control_limits = control_limits\n",
    "        self.map_resolution = map_resolution\n",
    "\n",
    "    def get_action(self, initial_state: np.array) -> np.array:\n",
    "        best_action = np.zeros_like(self.motion_model.action_space.sample())\n",
    "        best_score = float('-inf')\n",
    "        best_rollout = []\n",
    "\n",
    "        # Initialize list to store all rollouts for plotting\n",
    "        all_rollouts = []\n",
    "\n",
    "        # Generate control sequences and simulate rollouts\n",
    "        for _ in range(self.num_rollouts):\n",
    "            action = self.motion_model.action_space.sample()  # Sample initial action\n",
    "            rollout = []  # List to store trajectory for this rollout\n",
    "            state = initial_state.copy()  # Initialize state\n",
    "\n",
    "            # Simulate trajectory for the fixed horizon\n",
    "            for _ in range(self.horizon):\n",
    "                action += np.random.normal(0, self.sigma, action.shape)  # Add noise to action\n",
    "                action = np.clip(action, self.control_limits[0], self.control_limits[1])  # Ensure action within limits\n",
    "\n",
    "                # Transform coordinates to map indices\n",
    "                map_indices = self.world_coordinates_to_map_indices(state[:2])\n",
    "                # Check if the corresponding cell is occupied\n",
    "                if self.static_map.static_map[tuple(map_indices.astype(int))]:\n",
    "                    # If occupied, set the action to zero to prevent collision\n",
    "                    action = np.zeros_like(action)\n",
    "\n",
    "                state = self.motion_model.step(state, action)  # Simulate motion model\n",
    "                rollout.append(state[:2])  # Store (x, y) coordinates\n",
    "\n",
    "            # Store rollout for plotting\n",
    "            all_rollouts.append(rollout)\n",
    "\n",
    "            # Evaluate trajectory and calculate score\n",
    "            cost = self.compute_cost(rollout)\n",
    "            score = -cost  # Negative cost as lower cost is better\n",
    "\n",
    "            # Update best action and score if this rollout has a better score\n",
    "            if score > best_score:\n",
    "                best_score = score\n",
    "                best_action = actions\n",
    "                best_rollout = rollout\n",
    "\n",
    "        return best_action, all_rollouts, best_rollout\n",
    "\n",
    "    def compute_cost(self, rollout: np.array) -> float:\n",
    "        # Compute cost based on the trajectory (e.g., distance to finish line)\n",
    "        cost = 0\n",
    "        for point in rollout:\n",
    "            final_position = np.array(point)  # Final position of the trajectory\n",
    "            distance_to_goal = np.linalg.norm(final_position - self.static_map.finish_line[0])  # Calculate distance to finish line\n",
    "            cost += distance_to_goal  # Add distance to cost\n",
    "        return cost\n",
    "    \n",
    "    def world_coordinates_to_map_indices(self, coordinates):\n",
    "        return (coordinates / self.map_resolution).astype(int)\n"
   ]
  },
  {
   "cell_type": "code",
   "execution_count": 13,
   "metadata": {
    "id": "nrYXKRJiOdTa"
   },
   "outputs": [
    {
     "ename": "AttributeError",
     "evalue": "'NEURacingEnv' object has no attribute 'static_map'",
     "output_type": "error",
     "traceback": [
      "\u001b[1;31m---------------------------------------------------------------------------\u001b[0m",
      "\u001b[1;31mAttributeError\u001b[0m                            Traceback (most recent call last)",
      "Cell \u001b[1;32mIn[13], line 66\u001b[0m\n\u001b[0;32m     64\u001b[0m seed \u001b[38;5;241m=\u001b[39m \u001b[38;5;241m0\u001b[39m\n\u001b[0;32m     65\u001b[0m num_laps \u001b[38;5;241m=\u001b[39m \u001b[38;5;241m3\u001b[39m\n\u001b[1;32m---> 66\u001b[0m num_timesteps_used \u001b[38;5;241m=\u001b[39m \u001b[43mrun_planner_on_racetrack\u001b[49m\u001b[43m(\u001b[49m\n\u001b[0;32m     67\u001b[0m \u001b[43m    \u001b[49m\u001b[43menv\u001b[49m\u001b[43m,\u001b[49m\u001b[43m \u001b[49m\u001b[43mplanner_class\u001b[49m\u001b[38;5;241;43m=\u001b[39;49m\u001b[43mMPPIRacetrack\u001b[49m\u001b[43m,\u001b[49m\u001b[43m \u001b[49m\u001b[43mseed\u001b[49m\u001b[38;5;241;43m=\u001b[39;49m\u001b[43mseed\u001b[49m\u001b[43m,\u001b[49m\u001b[43m \u001b[49m\u001b[43mnum_laps\u001b[49m\u001b[38;5;241;43m=\u001b[39;49m\u001b[43mnum_laps\u001b[49m\n\u001b[0;32m     68\u001b[0m \u001b[43m)\u001b[49m\n\u001b[0;32m     69\u001b[0m \u001b[38;5;28mprint\u001b[39m(\u001b[38;5;124mf\u001b[39m\u001b[38;5;124m\"\u001b[39m\u001b[38;5;124mnum timesteps used: \u001b[39m\u001b[38;5;132;01m{\u001b[39;00mnum_timesteps_used\u001b[38;5;132;01m}\u001b[39;00m\u001b[38;5;124m\"\u001b[39m)\n",
      "Cell \u001b[1;32mIn[13], line 30\u001b[0m, in \u001b[0;36mrun_planner_on_racetrack\u001b[1;34m(env, planner_class, seed, num_laps)\u001b[0m\n\u001b[0;32m     28\u001b[0m trajectory \u001b[38;5;241m=\u001b[39m []\n\u001b[0;32m     29\u001b[0m \u001b[38;5;28;01mfor\u001b[39;00m t \u001b[38;5;129;01min\u001b[39;00m \u001b[38;5;28mrange\u001b[39m(num_timesteps):\n\u001b[1;32m---> 30\u001b[0m     action, all_rollouts, best_rollout \u001b[38;5;241m=\u001b[39m \u001b[43mplanner\u001b[49m\u001b[38;5;241;43m.\u001b[39;49m\u001b[43mget_action\u001b[49m\u001b[43m(\u001b[49m\u001b[43mobs\u001b[49m\u001b[43m)\u001b[49m\n\u001b[0;32m     31\u001b[0m     obs, _, terminated, _, _ \u001b[38;5;241m=\u001b[39m env\u001b[38;5;241m.\u001b[39mstep(action)\n\u001b[0;32m     33\u001b[0m     trajectory\u001b[38;5;241m.\u001b[39mappend(obs[:\u001b[38;5;241m2\u001b[39m])\n",
      "Cell \u001b[1;32mIn[12], line 44\u001b[0m, in \u001b[0;36mMPPIRacetrack.get_action\u001b[1;34m(self, initial_state)\u001b[0m\n\u001b[0;32m     42\u001b[0m map_indices \u001b[38;5;241m=\u001b[39m \u001b[38;5;28mself\u001b[39m\u001b[38;5;241m.\u001b[39mworld_coordinates_to_map_indices(state[:\u001b[38;5;241m2\u001b[39m])\n\u001b[0;32m     43\u001b[0m \u001b[38;5;66;03m# Check if the corresponding cell is occupied\u001b[39;00m\n\u001b[1;32m---> 44\u001b[0m \u001b[38;5;28;01mif\u001b[39;00m \u001b[38;5;28;43mself\u001b[39;49m\u001b[38;5;241;43m.\u001b[39;49m\u001b[43mstatic_map\u001b[49m\u001b[38;5;241;43m.\u001b[39;49m\u001b[43mstatic_map\u001b[49m[\u001b[38;5;28mtuple\u001b[39m(map_indices\u001b[38;5;241m.\u001b[39mastype(\u001b[38;5;28mint\u001b[39m))]:\n\u001b[0;32m     45\u001b[0m     \u001b[38;5;66;03m# If occupied, set the action to zero to prevent collision\u001b[39;00m\n\u001b[0;32m     46\u001b[0m     action \u001b[38;5;241m=\u001b[39m np\u001b[38;5;241m.\u001b[39mzeros_like(action)\n\u001b[0;32m     48\u001b[0m state \u001b[38;5;241m=\u001b[39m \u001b[38;5;28mself\u001b[39m\u001b[38;5;241m.\u001b[39mmotion_model\u001b[38;5;241m.\u001b[39mstep(state, action)  \u001b[38;5;66;03m# Simulate motion model\u001b[39;00m\n",
      "\u001b[1;31mAttributeError\u001b[0m: 'NEURacingEnv' object has no attribute 'static_map'"
     ]
    },
    {
     "data": {
      "image/png": "[encoded data removed]",
      "text/plain": [
       "<Figure size 640x480 with 1 Axes>"
      ]
     },
     "metadata": {},
     "output_type": "display_data"
    }
   ],
   "source": [
    "def run_planner_on_racetrack(\n",
    "    env: gymnasium.Env,\n",
    "    planner_class=MPPIRacetrack,\n",
    "    seed: int = 0,\n",
    "    num_laps: int = 3\n",
    ") -> int:\n",
    "    np.random.seed(seed)\n",
    "    obs, _ = env.reset()\n",
    "    env.unwrapped.laps_left = num_laps\n",
    "\n",
    "    # Create an instance of your planner\n",
    "    planner = planner_class(static_map=env.unwrapped)\n",
    "\n",
    "    # Draw a map of the environment with the finish line + initial position\n",
    "    ax = env.unwrapped.map.draw_map(show=False)\n",
    "    ax.plot(\n",
    "        env.unwrapped.finish_line[:, 0],\n",
    "        env.unwrapped.finish_line[:, 1],\n",
    "        \"g\",\n",
    "        lw=3,\n",
    "    )\n",
    "    ax.plot(obs[0], obs[1], \"rx\")\n",
    "\n",
    "    # Run the environment for num_timesteps, unless the robot hits an obstacle\n",
    "    # or successfully completes the number of laps needed\n",
    "    num_timesteps = 500\n",
    "    success = False\n",
    "    trajectory = []\n",
    "    for t in range(num_timesteps):\n",
    "        action, all_rollouts, best_rollout = planner.get_action(obs)\n",
    "        obs, _, terminated, _, _ = env.step(action)\n",
    "\n",
    "        trajectory.append(obs[:2])\n",
    "\n",
    "        ax.plot(obs[0], obs[1], \"bx\")\n",
    "\n",
    "        if terminated:\n",
    "            success = True\n",
    "            break\n",
    "\n",
    "    num_timesteps_used = t\n",
    "\n",
    "    # Plot the trajectory\n",
    "    plt.figure()\n",
    "    plt.title(\"Robot Trajectory\")\n",
    "    plt.plot(env.unwrapped.finish_line[:, 0], env.unwrapped.finish_line[:, 1], \"g\", lw=3, label=\"Finish Line\")\n",
    "    for rollout in all_rollouts:\n",
    "        plt.plot([x[0] for x in rollout], [x[1] for x in rollout], \"b\", alpha=0.1)\n",
    "    plt.plot([x[0] for x in best_rollout], [x[1] for x in best_rollout], \"r\", label=\"Best Rollout\")\n",
    "    plt.scatter([x[0] for x in trajectory], [x[1] for x in trajectory], c=range(len(trajectory)), cmap=\"viridis\", label=\"Path\")\n",
    "    plt.colorbar(label=\"Time\")\n",
    "    plt.xlabel(\"X\")\n",
    "    plt.ylabel(\"Y\")\n",
    "    plt.legend()\n",
    "    plt.grid(True)\n",
    "    plt.axis(\"equal\")\n",
    "    plt.show()\n",
    "\n",
    "    if success:\n",
    "        return num_timesteps_used\n",
    "    else:\n",
    "        return -1\n",
    "\n",
    "seed = 0\n",
    "num_laps = 3\n",
    "num_timesteps_used = run_planner_on_racetrack(\n",
    "    env, planner_class=MPPIRacetrack, seed=seed, num_laps=num_laps\n",
    ")\n",
    "print(f\"num timesteps used: {num_timesteps_used}\")\n"
   ]
  },
  {
   "cell_type": "markdown",
   "metadata": {
    "id": "-0dX_C6SKOdz"
   },
   "source": [
    "## [Extra Credit] 1c) Compete for the fastest lap time"
   ]
  },
  {
   "cell_type": "markdown",
   "metadata": {
    "id": "lQ4OYjItKayG"
   },
   "source": [
    "In this part, you can earn extra credit by achieving faster lap times (measured in average number of steps to complete the course, not computational runtime). You can get some extra credit by implementing a working version of something interesting here (e.g., another planning algorithm, a learning-based method, an extension beyond the basic MPPI we discussed in class). We will give additional extra credit to the student with the fastest lap time, which can be monitored on the Gradescope leaderboard."
   ]
  },
  {
   "cell_type": "code",
   "execution_count": 13,
   "metadata": {
    "id": "XSk7vQxILMmh"
   },
   "outputs": [],
   "source": [
    "class BetterPlanner:\n",
    "    def __init__(\n",
    "        self,\n",
    "        static_map,\n",
    "        motion_model=motion_models.Unicycle(),\n",
    "        num_rollouts=100,\n",
    "        horizon=10,\n",
    "        lambda_=1.0,\n",
    "        sigma=0.1,\n",
    "        control_limits=(-1.0, 1.0)\n",
    "    ):\n",
    "        self.motion_model = motion_model\n",
    "        self.static_map = static_map\n",
    "        self.num_rollouts = num_rollouts\n",
    "        self.horizon = horizon\n",
    "        self.lambda_ = lambda_\n",
    "        self.sigma = sigma\n",
    "        self.control_limits = control_limits\n",
    "\n",
    "    def get_action(self, obs: np.ndarray) -> np.ndarray:\n",
    "        best_action = np.zeros_like(self.motion_model.action_space.sample())\n",
    "        best_score = float('-inf')\n",
    "        best_rollout = []\n",
    "\n",
    "        # Initialize list to store all rollouts for plotting\n",
    "        all_rollouts = []\n",
    "\n",
    "        # Generate control sequences and simulate rollouts\n",
    "        for _ in range(self.num_rollouts):\n",
    "            action = self.motion_model.action_space.sample()  # Sample initial action\n",
    "            rollout = []  # List to store trajectory for this rollout\n",
    "            state = initial_state.copy()  # Initialize state\n",
    "\n",
    "            # Simulate trajectory for the fixed horizon\n",
    "            for _ in range(self.horizon):\n",
    "                action += np.random.normal(0, self.sigma, action.shape)  # Add noise to action\n",
    "                action = np.clip(action, self.control_limits[0], self.control_limits[1])  # Ensure action within limits\n",
    "                state = self.motion_model.step(state, action)  # Simulate motion model\n",
    "                rollout.append(state[:2])  # Store (x, y) coordinates\n",
    "\n",
    "            # Store rollout for plotting\n",
    "            all_rollouts.append(rollout)\n",
    "\n",
    "            # Evaluate trajectory and calculate score\n",
    "            final_position = np.array(rollout[-1])  # Final position of the trajectory\n",
    "            distance_to_goal = np.linalg.norm(final_position - self.static_map.finish_line[0])  # Calculate distance to finish line\n",
    "            score = -distance_to_goal  # Negative distance as lower distance is better\n",
    "\n",
    "            # Update best action and score if this rollout has a better score\n",
    "            if score > best_score:\n",
    "                best_score = score\n",
    "                best_action = action\n",
    "                best_rollout = rollout\n",
    "\n",
    "        return best_action, all_rollouts, best_rollout\n"
   ]
  },
  {
   "cell_type": "code",
   "execution_count": null,
   "metadata": {
    "id": "WlewS2XauH8x"
   },
   "outputs": [],
   "source": [
    "seed = 0\n",
    "num_laps = 3\n",
    "planner_class = BetterPlanner\n",
    "run_planner_on_racetrack(\n",
    "    env, planner_class=planner_class, seed=seed, num_laps=num_laps\n",
    ")"
   ]
  },
  {
   "cell_type": "markdown",
   "metadata": {
    "id": "wmxfA9IOr3oO"
   },
   "source": [
    "# Problem 2: Trajectory Optimization with `cvxpy`"
   ]
  },
  {
   "cell_type": "markdown",
   "metadata": {
    "id": "9qyLx6u_sQoU"
   },
   "source": [
    "## 2a) Double Integrator: Initial & Terminal Conditions"
   ]
  },
  {
   "cell_type": "markdown",
   "metadata": {
    "id": "WwwMyELypADw"
   },
   "source": [
    "For this problem, you'll use the 2D discrete-time double integrator dynamics, where $$\\mathbf{x}[t] = \\begin{bmatrix}\n",
    "x[t]\\\\\n",
    "y[t]\\\\\n",
    "v_x[t]\\\\\n",
    "v_y[t]\\\\\n",
    "\\end{bmatrix}, \\quad \\mathbf{u}[t] = \\begin{bmatrix} a_x[t]\\\\ a_y[t]\\\\ \\end{bmatrix}, \\quad \\mathbf{x}[t+dt] = A \\mathbf{x}[t] +  B \\mathbf{u}[t], \\quad A = \\begin{bmatrix}\n",
    "1 & 0 & dt & 0 \\\\\n",
    "0 & 1 & 0 & dt \\\\\n",
    "0 & 0 & 1 & 0 \\\\\n",
    "0 & 0 & 0 & 1 \\\\\n",
    "\\end{bmatrix}, \\quad B = \\begin{bmatrix}\n",
    "\\frac{dt^2}{2} & 0 \\\\\n",
    "0 & \\frac{dt^2}{2} \\\\\n",
    "dt & 0 \\\\\n",
    "0 & dt \\\\\n",
    "\\end{bmatrix}.\n",
    "$$\n",
    "\n",
    "You should turn the following optimization problem into code:\n",
    "\n",
    "$$\n",
    "\\begin{align}\n",
    "\\min_{x_{0:T}, u_{0:T}}\\quad & (x[T] - g_x)^2 + (y[T] - g_y)^2 \\\\\n",
    "\\text{s.t.}\\quad & \\mathbf{x}[t+1] = A \\mathbf{x}[t] + B \\mathbf{u}[t] \\quad \\forall t \\in \\{0, 1, \\ldots, T-1\\} \\\\\n",
    "& \\mathbf{u}[t] \\in U \\quad \\forall t \\in \\{0, 1, \\ldots, T-1\\} \\\\\n",
    "& \\mathbf{x}[0] = \\mathbf{x}_0 \\\\\n",
    "& v_x[T] = v_{x,T} \\\\\n",
    "& v_x[T] = v_{y,T} \\\\\n",
    "\\end{align}\n",
    "$$\n",
    "\n",
    "with $g_x = 3, g_y=5, v_{x,T}=0, v_{y,T}=0, \\mathbf{x}_0 = [1, 2, 0, 0], U = [-1, 1] \\times [-1, 1], T=10$.\n",
    "\n",
    "**Deliverables**:\n",
    "- Implement `optimize_trajectory`, which will take in initial and terminal conditions, control limits, dt, and return the optimal sequence of states (i.e., an array of shape (T+1, 4) -- T+1 timesteps (T timesteps + the initial state) and 4 states per timestep)\n",
    "- Generate a plot of your optimal trajectory. You are welcome to use the `plot_trajectory` function or write your own version."
   ]
  },
  {
   "cell_type": "code",
   "execution_count": null,
   "metadata": {
    "id": "MgHEnGozoeUD"
   },
   "outputs": [],
   "source": [
    "def optimize_trajectory(initial_pos, initial_vel, goal_pos, goal_vel, u_limits, dt, T=10):\n",
    "    \"\"\"\n",
    "    Optimizes the trajectory for a double integrator model.\n",
    "\n",
    "    Args:\n",
    "    initial_pos (np.ndarray): Initial position [x, y].\n",
    "    initial_vel (np.ndarray): Initial velocity [vx, vy].\n",
    "    goal_pos (np.ndarray): Target position [g_x, g_y].\n",
    "    goal_vel (np.ndarray): Target velocity [v_xT, v_yT].\n",
    "    u_limits (np.ndarray): Control input limits [[min, max], [min, max]].\n",
    "    dt (float): Time step.\n",
    "    T (int): Total number of time steps.\n",
    "\n",
    "    Returns:\n",
    "    np.ndarray: The optimal sequence of states (shape (T+1, 4)).\n",
    "    \"\"\"\n",
    "\n",
    "    # Define the state and control variables\n",
    "    x = cp.Variable((T+1, 4))  # State variable [x, y, vx, vy] for each time step\n",
    "    u = cp.Variable((T, 2))    # Control variable [ux, uy] for each time step\n",
    "\n",
    "\n",
    "    \"\"\" Example values for u:\n",
    "    ux    uy\n",
    " [[-0.5  0.8] \n",
    " [ 0.2 -0.4]\n",
    " [ 0.   0. ]\n",
    " [ 0.6  0.2]\n",
    " [-1.   0.5]]\n",
    "\n",
    " Example values for x:\n",
    "   x   y   vx  vy\n",
    " [[1.  2.  0.  0. ]\n",
    " [1.5 2.4 0.  0. ]\n",
    " [2.1 3.1 0.5 0.8]\n",
    " [3.  4.  1.2 1.2]\n",
    " [4.1 5.3 2.1 1.8]\n",
    " [5.4 6.9 2.8 2.4]] \n",
    " \n",
    "u_example represents the control inputs [ux, uy] at each time step.\n",
    "x_example represents the states [x, y, vx, vy] at each time step, including the initial state at time step 0 and the final state at time step 5.\n",
    "\n",
    "uy: Control input representing the acceleration in the y-direction.\n",
    "x: Position in the x-direction.\n",
    "y: Position in the y-direction.\n",
    "vx: Velocity in the x-direction.\n",
    "vy: Velocity in the y-direction\n",
    " \"\"\"\n",
    "\n",
    "\n",
    "    # Dynamics (Double Integrator Model)\n",
    "    A = np.array([[1, 0, dt, 0],\n",
    "                  [0, 1, 0, dt],\n",
    "                  [0, 0, 1, 0],\n",
    "                  [0, 0, 0, 1]])\n",
    "    B = np.array([[0.5*dt**2, 0],\n",
    "                  [0, 0.5*dt**2],\n",
    "                  [dt, 0],\n",
    "                  [0, dt]])\n",
    "\n",
    "    # Constraints\n",
    "    constraints = [x[0] == np.concatenate((initial_pos, initial_vel))]  # Initial condition\n",
    "    constraints += [x[T, 2:] == goal_vel]  # Final velocity condition\n",
    "    for t in range(T):\n",
    "        constraints += [x[t+1] == A @ x[t] + B @ u[t]]  # Dynamics constraint\n",
    "        constraints += [u[t] >= u_limits[:, 0], u[t] <= u_limits[:, 1]]  # Control input constraints\n",
    "\n",
    "    # Objective\n",
    "    objective = cp.Minimize(cp.sum_squares(x[T, :2] - goal_pos))  # Minimize the squared distance from the final position to the goal\n",
    "\n",
    "    # Define and solve the problem\n",
    "    prob = cp.Problem(objective, constraints)\n",
    "    prob.solve()\n",
    "\n",
    "    return x.value\n",
    "\n",
    "def plot_trajectory(xt):\n",
    "    \"\"\"\n",
    "    Plots the trajectory of the double integrator model.\n",
    "\n",
    "    Args:\n",
    "    xt (np.ndarray): State trajectory array of shape (T+1, 4).\n",
    "    \"\"\"\n",
    "    plt.plot(xt[:, 0], xt[:, 1], \"-x\")\n",
    "    plt.title(\"Optimal Trajectory\")\n",
    "    plt.xlabel(\"X Position\")\n",
    "    plt.ylabel(\"Y Position\")\n",
    "    plt.grid(True)\n",
    "    plt.axis(\"equal\")\n",
    "    plt.show()\n"
   ]
  },
  {
   "cell_type": "markdown",
   "metadata": {
    "id": "1q1bRwpi2cWu"
   },
   "source": [
    "You can check whether your code works using"
   ]
  },
  {
   "cell_type": "code",
   "execution_count": null,
   "metadata": {
    "id": "tWoRpQs3t2iQ"
   },
   "outputs": [],
   "source": [
    "initial_pos = np.array([1.0, 2.0])\n",
    "initial_vel = np.array([0.0, 0.0])\n",
    "goal_pos = np.array([3.0, 5.0])\n",
    "goal_vel = np.array([0.0, 0.0])\n",
    "u_limits = 0.2 * np.array([[-1.0, 1.0], [-1.0, 1.0]])\n",
    "dt = 1.0\n",
    "\n",
    "optimal_xt = optimize_trajectory(\n",
    "    initial_pos,\n",
    "    initial_vel,\n",
    "    goal_pos,\n",
    "    goal_vel,\n",
    "    u_limits,\n",
    "    dt,\n",
    ")\n",
    "\n",
    "plot_trajectory(optimal_xt)"
   ]
  },
  {
   "cell_type": "markdown",
   "metadata": {
    "id": "WGWONpFmHz6G"
   },
   "source": [
    "## [Extra Credit] 2b) Incorporate obstacle avoidance as a convex optimization problem"
   ]
  },
  {
   "cell_type": "markdown",
   "metadata": {
    "id": "DV64hIZMIB_i"
   },
   "source": [
    "Now, you should extend your optimization code to handle a list of circular obstacles that the double integrator must avoid. We would like you to try to keep this as a convex optimization problem. If you just start adding constraints and costs, you will likely end up with a non-convex optimization problem, which are generally hard to solve.\n",
    "\n",
    "One possible way to keep the problem convex could be to break the free (i.e., non-obstacle) space into a set of convex regions, then split the trajectory into multiple segments (each one needing to stay within one convex region). But, there could be many other ways, and you are encouraged to try different strategies!\n"
   ]
  },
  {
   "cell_type": "code",
   "execution_count": null,
   "metadata": {
    "id": "BJybm9RcG2qL"
   },
   "outputs": [],
   "source": [
    "def optimize_trajectory_with_obstacles(\n",
    "    initial_pos: np.ndarray,\n",
    "    initial_vel: np.ndarray,\n",
    "    goal_pos: np.ndarray,\n",
    "    goal_vel: np.ndarray,\n",
    "    u_limits: np.ndarray,\n",
    "    dt: float,\n",
    "    obstacles: list,\n",
    ") -> np.ndarray:\n",
    "\n",
    "    \"\"\" Your implementation here\"\"\"\n",
    "    raise NotImplementedError\n",
    "    return states\n",
    "\n",
    "\n",
    "def plot_trajectory_with_obstacles(\n",
    "    xt: np.ndarray,\n",
    "    obstacles: list[np.ndarray],\n",
    ") -> None:\n",
    "\n",
    "    # Feel free to add to this\n",
    "\n",
    "    fig, ax = plt.subplots()\n",
    "    plt.plot(xt[:, 0], xt[:, 1], \"-x\")\n",
    "    for obstacle in obstacles:\n",
    "        ax.add_patch(plt.Circle(obstacle[0:2], obstacle[2], color=\"r\"))\n",
    "    plt.axis(\"equal\")\n",
    "    plt.show()"
   ]
  },
  {
   "cell_type": "code",
   "execution_count": null,
   "metadata": {
    "id": "-klRF2tt0quK"
   },
   "outputs": [],
   "source": [
    "initial_pos = np.array([1.0, 2.0])\n",
    "initial_vel = np.array([0.0, 0.0])\n",
    "goal_pos = np.array([3.0, 5.0])\n",
    "goal_vel = np.array([0.0, 0.0])\n",
    "u_limits = 0.2 * np.array([[-1.0, 1.0], [-1.0, 1.0]])\n",
    "dt = 1.0\n",
    "\n",
    "obstacles = [\n",
    "    (1.5, 2.5, 0.5),\n",
    "    (2.0, 3.5, 0.25),\n",
    "    (2.5, 4.0, 0.5),\n",
    "]\n",
    "\n",
    "optimal_xt = optimize_trajectory_with_obstacles(\n",
    "    initial_pos,\n",
    "    initial_vel,\n",
    "    goal_pos,\n",
    "    goal_vel,\n",
    "    u_limits,\n",
    "    dt,\n",
    "    obstacles,\n",
    ")\n",
    "\n",
    "plot_trajectory_with_obstacles(optimal_xt, obstacles)"
   ]
  }
 ],
 "metadata": {
  "colab": {
   "collapsed_sections": [
    "l5Q-SupywN0g",
    "TKUvYLxpv2p4",
    "wmxfA9IOr3oO"
   ],
   "provenance": []
  },
  "kernelspec": {
   "display_name": "Python 3 (ipykernel)",
   "language": "python",
   "name": "python3"
  },
  "language_info": {
   "codemirror_mode": {
    "name": "ipython",
    "version": 3
   },
   "file_extension": ".py",
   "mimetype": "text/x-python",
   "name": "python",
   "nbconvert_exporter": "python",
   "pygments_lexer": "ipython3",
   "version": "3.11.3"
  }
 },
 "nbformat": 4,
 "nbformat_minor": 4
}
